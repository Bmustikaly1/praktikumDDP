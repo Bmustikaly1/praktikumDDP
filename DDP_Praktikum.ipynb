{
  "nbformat": 4,
  "nbformat_minor": 0,
  "metadata": {
    "colab": {
      "provenance": [],
      "collapsed_sections": [],
      "authorship_tag": "ABX9TyOOZJ4oqcaZisxublyO1bfe",
      "include_colab_link": true
    },
    "kernelspec": {
      "name": "python3",
      "display_name": "Python 3"
    },
    "language_info": {
      "name": "python"
    }
  },
  "cells": [
    {
      "cell_type": "markdown",
      "metadata": {
        "id": "view-in-github",
        "colab_type": "text"
      },
      "source": [
        "<a href=\"https://colab.research.google.com/github/Bmustikaly1/praktikumDDP/blob/main/DDP_Praktikum.ipynb\" target=\"_parent\"><img src=\"https://colab.research.google.com/assets/colab-badge.svg\" alt=\"Open In Colab\"/></a>"
      ]
    },
    {
      "cell_type": "code",
      "execution_count": 1,
      "metadata": {
        "colab": {
          "base_uri": "https://localhost:8080/"
        },
        "id": "DnbBUt1WJpnX",
        "outputId": "cb6e6528-adc3-406d-a000-5f5dfd8ff460"
      },
      "outputs": [
        {
          "output_type": "stream",
          "name": "stdout",
          "text": [
            "hello world\n"
          ]
        }
      ],
      "source": [
        "print(\"hello world\")"
      ]
    },
    {
      "cell_type": "code",
      "source": [
        "dosen =\"The Legend of Rojulman\"\n",
        "mahasiswa = 700\n",
        "ipk = 3.90\n",
        "kelas = 15j\n",
        "sistem_informasi = True\n",
        "nama_mahasiswa = [\"ilham, rusmanto, rio, lukman\"]\n",
        "namaDosen = (\"yahya, misna, april\")\n",
        "\n",
        "print(dosen)\n",
        "print(mahasiswa)\n",
        "print(ipk)\n",
        "print(kelas)\n",
        "print(sistem_informasi)\n",
        "print(nama_mahasiswa)\n",
        "print(namaDosen)"
      ],
      "metadata": {
        "colab": {
          "base_uri": "https://localhost:8080/"
        },
        "id": "2dcbEcbUROI9",
        "outputId": "cd946303-5b2d-4f04-c726-45b95d6b0636"
      },
      "execution_count": 2,
      "outputs": [
        {
          "output_type": "stream",
          "name": "stdout",
          "text": [
            "The Legend of Rojulman\n",
            "700\n",
            "3.9\n",
            "15j\n",
            "True\n",
            "['ilham, rusmanto, rio, lukman']\n",
            "yahya, misna, april\n"
          ]
        }
      ]
    },
    {
      "cell_type": "code",
      "source": [
        "dosen =\"The Legend of Rojulman\"\n",
        "mahasiswa = 700\n",
        "ipk = 3.90\n",
        "kelas = 15j\n",
        "sistem_informasi = True\n",
        "nama_mahasiswa = [\"ilham\", \"rusmanto\", \"rio\", \"lukman\"]\n",
        "namaDosen = (\"yahya\", \"misna\", \"april\")\n",
        "\n",
        "print(type(dosen))\n",
        "print(type(mahasiswa))\n",
        "print(type(ipk))\n",
        "print(type(kelas))\n",
        "print(type(sistem_informasi))\n",
        "print(type(nama_mahasiswa))\n",
        "print(type(namaDosen))\n"
      ],
      "metadata": {
        "colab": {
          "base_uri": "https://localhost:8080/"
        },
        "id": "GPxx6oVwTIyo",
        "outputId": "b93b5af4-08f2-4187-eead-d16f4e41cb0e"
      },
      "execution_count": 4,
      "outputs": [
        {
          "output_type": "stream",
          "name": "stdout",
          "text": [
            "<class 'str'>\n",
            "<class 'int'>\n",
            "<class 'float'>\n",
            "<class 'complex'>\n",
            "<class 'bool'>\n",
            "<class 'list'>\n",
            "<class 'tuple'>\n"
          ]
        }
      ]
    },
    {
      "cell_type": "code",
      "source": [
        "phi = 3.14\n",
        "jari_jari = 10\n",
        "luas = phi * jari_jari * jari_jari\n",
        "\n",
        "print(luas)\n",
        "print(type(luas))"
      ],
      "metadata": {
        "colab": {
          "base_uri": "https://localhost:8080/"
        },
        "id": "1P_4FdPlVDmA",
        "outputId": "7a1bc15e-ae62-4b2c-dd0b-052563006eab"
      },
      "execution_count": 7,
      "outputs": [
        {
          "output_type": "stream",
          "name": "stdout",
          "text": [
            "314.0\n",
            "<class 'float'>\n"
          ]
        }
      ]
    },
    {
      "cell_type": "code",
      "source": [
        "phi = 3.14\n",
        "jari2 = 12\n",
        "keliling = 2 * phi * jari2\n",
        "\n",
        "print(keliling)\n",
        "print(type(keliling))"
      ],
      "metadata": {
        "colab": {
          "base_uri": "https://localhost:8080/"
        },
        "id": "XU2EBj8dXx4W",
        "outputId": "ff3fd81d-dee7-4eb2-d859-6b03ee6b768b"
      },
      "execution_count": 8,
      "outputs": [
        {
          "output_type": "stream",
          "name": "stdout",
          "text": [
            "75.36\n",
            "<class 'float'>\n"
          ]
        }
      ]
    },
    {
      "cell_type": "code",
      "source": [
        "hutang = 150000\n",
        "bayar = 2000\n",
        "sisaHutang = hutang - bayar\n",
        "\n",
        "print(\"Sisa hutang anda adalah\",sisaHutang)"
      ],
      "metadata": {
        "colab": {
          "base_uri": "https://localhost:8080/"
        },
        "id": "ZktzOIJVYGou",
        "outputId": "47d33232-6b47-4e22-8522-81838584ba04"
      },
      "execution_count": 10,
      "outputs": [
        {
          "output_type": "stream",
          "name": "stdout",
          "text": [
            "Sisa hutang anda adalah 148000\n"
          ]
        }
      ]
    },
    {
      "cell_type": "code",
      "source": [
        "bilangan1 = 8.5\n",
        "bilangan2 = 2\n",
        "hasilPangkat = bilangan1 ** bilangan2\n",
        "\n",
        "print(\"Hasil pangkat dari\",bilangan1,\"dan\",bilangan2,\"adalah\",hasilPangkat)\n",
        "print(type(hasilPangkat))"
      ],
      "metadata": {
        "colab": {
          "base_uri": "https://localhost:8080/"
        },
        "id": "FwvZvywCYl3P",
        "outputId": "418a495b-521a-4d9a-f17d-6d539d2c749d"
      },
      "execution_count": 16,
      "outputs": [
        {
          "output_type": "stream",
          "name": "stdout",
          "text": [
            "Hasil pangkat dari 8.5 dan 2 adalah 72.25\n",
            "<class 'float'>\n"
          ]
        }
      ]
    },
    {
      "cell_type": "code",
      "source": [
        "panjang = input('Masukkan nilai panjangnya :')\n",
        "lebar = input(\"Masukkan nilai lebarnya :\")\n",
        "luas = int(panjang) * int(lebar)\n",
        "\n",
        "print(luas)\n",
        "print(type(luas))"
      ],
      "metadata": {
        "colab": {
          "base_uri": "https://localhost:8080/"
        },
        "id": "oSPmp9S3a3En",
        "outputId": "f30739eb-0054-4a93-8bf3-9ef56b1f05dd"
      },
      "execution_count": 18,
      "outputs": [
        {
          "output_type": "stream",
          "name": "stdout",
          "text": [
            "Masukkan nilai panjangnya :20\n",
            "Masukkan nilai lebarnya :30\n",
            "600\n",
            "<class 'int'>\n"
          ]
        }
      ]
    }
  ]
}